{
  "nbformat": 4,
  "nbformat_minor": 0,
  "metadata": {
    "colab": {
      "name": "weather.ipynb",
      "provenance": [],
      "collapsed_sections": [],
      "authorship_tag": "ABX9TyMHvrl7O3dypesvreBJc+u/",
      "include_colab_link": true
    },
    "kernelspec": {
      "name": "python3",
      "display_name": "Python 3"
    },
    "language_info": {
      "name": "python"
    }
  },
  "cells": [
    {
      "cell_type": "markdown",
      "metadata": {
        "id": "view-in-github",
        "colab_type": "text"
      },
      "source": [
        "<a href=\"https://colab.research.google.com/github/sandeep111020/machine_learning/blob/master/weather.ipynb\" target=\"_parent\"><img src=\"https://colab.research.google.com/assets/colab-badge.svg\" alt=\"Open In Colab\"/></a>"
      ]
    },
    {
      "cell_type": "code",
      "execution_count": null,
      "metadata": {
        "colab": {
          "base_uri": "https://localhost:8080/"
        },
        "id": "PeC5NCuJsOox",
        "outputId": "3f930056-190b-4b1b-b5e2-7bec4b093d2f"
      },
      "outputs": [
        {
          "output_type": "stream",
          "name": "stdout",
          "text": [
            "Requirement already satisfied: requests in /usr/local/lib/python3.7/dist-packages (2.23.0)\n",
            "Requirement already satisfied: certifi>=2017.4.17 in /usr/local/lib/python3.7/dist-packages (from requests) (2021.10.8)\n",
            "Requirement already satisfied: idna<3,>=2.5 in /usr/local/lib/python3.7/dist-packages (from requests) (2.10)\n",
            "Requirement already satisfied: urllib3!=1.25.0,!=1.25.1,<1.26,>=1.21.1 in /usr/local/lib/python3.7/dist-packages (from requests) (1.24.3)\n",
            "Requirement already satisfied: chardet<4,>=3.0.2 in /usr/local/lib/python3.7/dist-packages (from requests) (3.0.4)\n"
          ]
        }
      ],
      "source": [
        "pip install requests"
      ]
    },
    {
      "cell_type": "code",
      "source": [
        "pip install python-firebase"
      ],
      "metadata": {
        "colab": {
          "base_uri": "https://localhost:8080/"
        },
        "id": "noRb-uTlsSn2",
        "outputId": "5d901fe0-4fdc-4b3e-f8e8-5375f014b8e4"
      },
      "execution_count": null,
      "outputs": [
        {
          "output_type": "stream",
          "name": "stdout",
          "text": [
            "Collecting python-firebase\n",
            "  Downloading python-firebase-1.2.tar.gz (10 kB)\n",
            "Requirement already satisfied: requests>=1.1.0 in /usr/local/lib/python3.7/dist-packages (from python-firebase) (2.23.0)\n",
            "Requirement already satisfied: urllib3!=1.25.0,!=1.25.1,<1.26,>=1.21.1 in /usr/local/lib/python3.7/dist-packages (from requests>=1.1.0->python-firebase) (1.24.3)\n",
            "Requirement already satisfied: certifi>=2017.4.17 in /usr/local/lib/python3.7/dist-packages (from requests>=1.1.0->python-firebase) (2021.10.8)\n",
            "Requirement already satisfied: chardet<4,>=3.0.2 in /usr/local/lib/python3.7/dist-packages (from requests>=1.1.0->python-firebase) (3.0.4)\n",
            "Requirement already satisfied: idna<3,>=2.5 in /usr/local/lib/python3.7/dist-packages (from requests>=1.1.0->python-firebase) (2.10)\n",
            "Building wheels for collected packages: python-firebase\n",
            "  Building wheel for python-firebase (setup.py) ... \u001b[?25l\u001b[?25hdone\n",
            "  Created wheel for python-firebase: filename=python_firebase-1.2-py3-none-any.whl size=11532 sha256=35796d96d3b1bd3d98c08f0b270f0a73447c21ad0fec8b389a819799f40373ef\n",
            "  Stored in directory: /root/.cache/pip/wheels/0f/6d/06/32ba434ed7b712403f944a537c25e5b9560d766b58d172c8e6\n",
            "Successfully built python-firebase\n",
            "Installing collected packages: python-firebase\n",
            "Successfully installed python-firebase-1.2\n"
          ]
        }
      ]
    },
    {
      "cell_type": "code",
      "source": [
        "pip install git+https://github.com/ozgur/python-firebase"
      ],
      "metadata": {
        "colab": {
          "base_uri": "https://localhost:8080/"
        },
        "id": "ASCGhM2Hsrq1",
        "outputId": "e2d64bc4-2375-4895-c614-9a0f121347ee"
      },
      "execution_count": null,
      "outputs": [
        {
          "output_type": "stream",
          "name": "stdout",
          "text": [
            "Collecting git+https://github.com/ozgur/python-firebase\n",
            "  Cloning https://github.com/ozgur/python-firebase to /tmp/pip-req-build-xql2ztmu\n",
            "  Running command git clone -q https://github.com/ozgur/python-firebase /tmp/pip-req-build-xql2ztmu\n",
            "Requirement already satisfied: requests>=1.1.0 in /usr/local/lib/python3.7/dist-packages (from python-firebase==1.2.1) (2.23.0)\n",
            "Requirement already satisfied: certifi>=2017.4.17 in /usr/local/lib/python3.7/dist-packages (from requests>=1.1.0->python-firebase==1.2.1) (2021.10.8)\n",
            "Requirement already satisfied: idna<3,>=2.5 in /usr/local/lib/python3.7/dist-packages (from requests>=1.1.0->python-firebase==1.2.1) (2.10)\n",
            "Requirement already satisfied: urllib3!=1.25.0,!=1.25.1,<1.26,>=1.21.1 in /usr/local/lib/python3.7/dist-packages (from requests>=1.1.0->python-firebase==1.2.1) (1.24.3)\n",
            "Requirement already satisfied: chardet<4,>=3.0.2 in /usr/local/lib/python3.7/dist-packages (from requests>=1.1.0->python-firebase==1.2.1) (3.0.4)\n",
            "Building wheels for collected packages: python-firebase\n",
            "  Building wheel for python-firebase (setup.py) ... \u001b[?25l\u001b[?25hdone\n",
            "  Created wheel for python-firebase: filename=python_firebase-1.2.1-py3-none-any.whl size=12545 sha256=f809c8e1211bd6a85d27f102f9a0c8662c22343634d5721a85f8c59095285e76\n",
            "  Stored in directory: /tmp/pip-ephem-wheel-cache-fn2mwbi4/wheels/e7/7e/19/4f87f6d9a85bccbedc016446ef2314ed1f3fff01879f8f2be9\n",
            "Successfully built python-firebase\n",
            "Installing collected packages: python-firebase\n",
            "  Attempting uninstall: python-firebase\n",
            "    Found existing installation: python-firebase 1.2\n",
            "    Uninstalling python-firebase-1.2:\n",
            "      Successfully uninstalled python-firebase-1.2\n",
            "Successfully installed python-firebase-1.2.1\n"
          ]
        }
      ]
    },
    {
      "cell_type": "code",
      "source": [
        "from firebase import firebase\n",
        "from datetime import date, timedelta\n",
        "today = date.today()\n",
        "\n",
        "lst = []\n",
        "rec =[]\n",
        "rect =[]\n",
        "datelist=[]\n",
        "fb_app = firebase.FirebaseApplication('https://socialmediaapp-b8b03-default-rtdb.firebaseio.com/', None)\n",
        "\n",
        "lst.append(today.strftime('%Y-%m-%d').replace('-0', '-'))\n",
        "temp1 = today.strftime('%Y-%m-%d').replace('-0', '-')\n",
        "print(fb_app.get('DHT11/Humidity/'+temp1, None))\n",
        "rec.append(fb_app.get('DHT11/Humidity/'+temp1, None))\n",
        "rect.append(fb_app.get('DHT11/Temperature/'+temp1, None))\n",
        "print('DHT11/Humidity/'+temp1)\n",
        "datelist.append([int(today.strftime('%m')),int(today.strftime('%d'))])\n",
        "\n",
        "tomm= today + timedelta(days=0+1)\n",
        "fin = [[int(tomm.strftime('%m')),int(tomm.strftime('%d'))]]\n",
        "\n",
        "for x in range(5):\n",
        "   #lst.append(today - timedelta(days = x+1))\n",
        "   yesterday = today - timedelta(days=x+1)\n",
        "   lst.append(yesterday.strftime('%Y-%m-%d').replace('-0', '-'))\n",
        "   temp = yesterday.strftime('%Y-%m-%d').replace('-0', '-')\n",
        "   print(fb_app.get('DHT11/Humidity/'+temp, None))\n",
        "   rec.append(fb_app.get('DHT11/Humidity/'+temp, None))\n",
        "   rect.append(fb_app.get('DHT11/Temperature/'+temp, None))\n",
        "\n",
        "   print('DHT11/Humidity/'+temp)\n",
        "   datelist.append([int(yesterday.strftime('%m')),int(yesterday.strftime('%d'))])\n",
        "\n",
        "print(today)\n",
        "print(rec)\n",
        "print(rect)\n",
        "print(datelist)\n",
        "print(fin)\n",
        "result = fb_app.get('DHT11/Humidity', None)\n",
        "#print(result)"
      ],
      "metadata": {
        "colab": {
          "base_uri": "https://localhost:8080/"
        },
        "id": "prqN_QlrsVlM",
        "outputId": "05d4df29-0d4f-4d18-e088-2675e6ac1807"
      },
      "execution_count": null,
      "outputs": [
        {
          "output_type": "stream",
          "name": "stdout",
          "text": [
            "70\n",
            "DHT11/Humidity/2022-2-8\n",
            "81\n",
            "DHT11/Humidity/2022-2-7\n",
            "62\n",
            "DHT11/Humidity/2022-2-6\n",
            "72\n",
            "DHT11/Humidity/2022-2-5\n",
            "66\n",
            "DHT11/Humidity/2022-2-4\n",
            "70\n",
            "DHT11/Humidity/2022-2-3\n",
            "2022-02-08\n",
            "['70', '81', '62', '72', '66', '70']\n",
            "['29', '28', '29', '25', '27', '27']\n",
            "[[2, 8], [2, 7], [2, 6], [2, 5], [2, 4], [2, 3]]\n",
            "[[2, 9]]\n"
          ]
        }
      ]
    },
    {
      "cell_type": "code",
      "source": [
        "from sklearn.linear_model import LinearRegression\n",
        "#fin = [[2,9]]\n",
        "\n",
        "model = LinearRegression()\n",
        "model.fit(datelist,rec)\n",
        "pred = model.predict(fin)\n",
        "print(pred)\n",
        "for item in pred:\n",
        "  fb_app.put('DHT11/HumidityPred/',\"Data\",item)\n",
        "\n",
        "modelt = LinearRegression()\n",
        "modelt.fit(datelist,rect)\n",
        "predt = modelt.predict(fin)\n",
        "print(predt)\n",
        "for item in predt:\n",
        "  fb_app.put('DHT11/TemperaturePred/',\"Data\",item)\n"
      ],
      "metadata": {
        "id": "lAZ7-d3J3JBp",
        "colab": {
          "base_uri": "https://localhost:8080/"
        },
        "outputId": "3fac1444-1f05-45af-bd19-3b3fda63dc90"
      },
      "execution_count": null,
      "outputs": [
        {
          "output_type": "stream",
          "name": "stdout",
          "text": [
            "[73.66666667]\n",
            "[29.2]\n"
          ]
        }
      ]
    }
  ]
}