{
  "nbformat": 4,
  "nbformat_minor": 0,
  "metadata": {
    "colab": {
      "name": "newspopularity.ipynb",
      "provenance": [],
      "mount_file_id": "1-W5p0E9vhYsY0P1x4HD775kCvz-ryAID",
      "authorship_tag": "ABX9TyPeqloM6nVMWnmGJruto2rG",
      "include_colab_link": true
    },
    "kernelspec": {
      "name": "python3",
      "display_name": "Python 3"
    }
  },
  "cells": [
    {
      "cell_type": "markdown",
      "metadata": {
        "id": "view-in-github",
        "colab_type": "text"
      },
      "source": [
        "<a href=\"https://colab.research.google.com/github/sandeep111020/machine_learning/blob/master/newspopularity.ipynb\" target=\"_parent\"><img src=\"https://colab.research.google.com/assets/colab-badge.svg\" alt=\"Open In Colab\"/></a>"
      ]
    },
    {
      "cell_type": "code",
      "metadata": {
        "id": "1-3mdwNfc2WL",
        "colab_type": "code",
        "colab": {
          "base_uri": "https://localhost:8080/",
          "height": 224
        },
        "outputId": "fe312b15-799b-4b90-b5ba-11fa1937b96e"
      },
      "source": [
        "import pandas as pd\n",
        "train = pd.read_csv(\"/content/drive/My Drive/Train.csv\")\n",
        "test = pd.read_csv(\"/content/drive/My Drive/Test.csv\")\n",
        "train.head()"
      ],
      "execution_count": null,
      "outputs": [
        {
          "output_type": "execute_result",
          "data": {
            "text/html": [
              "<div>\n",
              "<style scoped>\n",
              "    .dataframe tbody tr th:only-of-type {\n",
              "        vertical-align: middle;\n",
              "    }\n",
              "\n",
              "    .dataframe tbody tr th {\n",
              "        vertical-align: top;\n",
              "    }\n",
              "\n",
              "    .dataframe thead th {\n",
              "        text-align: right;\n",
              "    }\n",
              "</style>\n",
              "<table border=\"1\" class=\"dataframe\">\n",
              "  <thead>\n",
              "    <tr style=\"text-align: right;\">\n",
              "      <th></th>\n",
              "      <th>n_tokens_title</th>\n",
              "      <th>n_tokens_content</th>\n",
              "      <th>n_unique_tokens</th>\n",
              "      <th>n_non_stop_words</th>\n",
              "      <th>n_non_stop_unique_tokens</th>\n",
              "      <th>num_hrefs</th>\n",
              "      <th>num_self_hrefs</th>\n",
              "      <th>num_imgs</th>\n",
              "      <th>num_videos</th>\n",
              "      <th>average_token_length</th>\n",
              "      <th>num_keywords</th>\n",
              "      <th>data_channel_is_lifestyle</th>\n",
              "      <th>data_channel_is_entertainment</th>\n",
              "      <th>data_channel_is_bus</th>\n",
              "      <th>data_channel_is_socmed</th>\n",
              "      <th>data_channel_is_tech</th>\n",
              "      <th>data_channel_is_world</th>\n",
              "      <th>kw_min_min</th>\n",
              "      <th>kw_max_min</th>\n",
              "      <th>kw_avg_min</th>\n",
              "      <th>kw_min_max</th>\n",
              "      <th>kw_max_max</th>\n",
              "      <th>kw_avg_max</th>\n",
              "      <th>kw_min_avg</th>\n",
              "      <th>kw_max_avg</th>\n",
              "      <th>kw_avg_avg</th>\n",
              "      <th>self_reference_min_shares</th>\n",
              "      <th>self_reference_max_shares</th>\n",
              "      <th>self_reference_avg_sharess</th>\n",
              "      <th>weekday_is_monday</th>\n",
              "      <th>weekday_is_tuesday</th>\n",
              "      <th>weekday_is_wednesday</th>\n",
              "      <th>weekday_is_thursday</th>\n",
              "      <th>weekday_is_friday</th>\n",
              "      <th>weekday_is_saturday</th>\n",
              "      <th>weekday_is_sunday</th>\n",
              "      <th>is_weekend</th>\n",
              "      <th>LDA_00</th>\n",
              "      <th>LDA_01</th>\n",
              "      <th>LDA_02</th>\n",
              "      <th>LDA_03</th>\n",
              "      <th>LDA_04</th>\n",
              "      <th>global_subjectivity</th>\n",
              "      <th>global_sentiment_polarity</th>\n",
              "      <th>global_rate_positive_words</th>\n",
              "      <th>global_rate_negative_words</th>\n",
              "      <th>rate_positive_words</th>\n",
              "      <th>rate_negative_words</th>\n",
              "      <th>avg_positive_polarity</th>\n",
              "      <th>min_positive_polarity</th>\n",
              "      <th>max_positive_polarity</th>\n",
              "      <th>avg_negative_polarity</th>\n",
              "      <th>min_negative_polarity</th>\n",
              "      <th>max_negative_polarity</th>\n",
              "      <th>title_subjectivity</th>\n",
              "      <th>title_sentiment_polarity</th>\n",
              "      <th>abs_title_subjectivity</th>\n",
              "      <th>abs_title_sentiment_polarity</th>\n",
              "      <th>shares</th>\n",
              "    </tr>\n",
              "  </thead>\n",
              "  <tbody>\n",
              "    <tr>\n",
              "      <th>0</th>\n",
              "      <td>9.0</td>\n",
              "      <td>286.0</td>\n",
              "      <td>0.552727</td>\n",
              "      <td>1.0</td>\n",
              "      <td>0.612903</td>\n",
              "      <td>6.0</td>\n",
              "      <td>4.0</td>\n",
              "      <td>2.0</td>\n",
              "      <td>1.0</td>\n",
              "      <td>4.702797</td>\n",
              "      <td>9.0</td>\n",
              "      <td>0.0</td>\n",
              "      <td>0.0</td>\n",
              "      <td>0.0</td>\n",
              "      <td>0.0</td>\n",
              "      <td>1.0</td>\n",
              "      <td>0.0</td>\n",
              "      <td>-1.0</td>\n",
              "      <td>519.0</td>\n",
              "      <td>110.125000</td>\n",
              "      <td>0.0</td>\n",
              "      <td>843300.0</td>\n",
              "      <td>401655.555556</td>\n",
              "      <td>0.000000</td>\n",
              "      <td>4020.494845</td>\n",
              "      <td>2770.929395</td>\n",
              "      <td>2000.0</td>\n",
              "      <td>13900.0</td>\n",
              "      <td>7950.0</td>\n",
              "      <td>0.0</td>\n",
              "      <td>0.0</td>\n",
              "      <td>0.0</td>\n",
              "      <td>1.0</td>\n",
              "      <td>0.0</td>\n",
              "      <td>0.0</td>\n",
              "      <td>0.0</td>\n",
              "      <td>0.0</td>\n",
              "      <td>0.022280</td>\n",
              "      <td>0.022225</td>\n",
              "      <td>0.022250</td>\n",
              "      <td>0.022223</td>\n",
              "      <td>0.911021</td>\n",
              "      <td>0.433628</td>\n",
              "      <td>0.267172</td>\n",
              "      <td>0.048951</td>\n",
              "      <td>0.000000</td>\n",
              "      <td>1.000000</td>\n",
              "      <td>0.000000</td>\n",
              "      <td>0.343506</td>\n",
              "      <td>0.136364</td>\n",
              "      <td>1.0</td>\n",
              "      <td>0.000000</td>\n",
              "      <td>0.0</td>\n",
              "      <td>0.00</td>\n",
              "      <td>0.000000</td>\n",
              "      <td>0.000000</td>\n",
              "      <td>0.500000</td>\n",
              "      <td>0.000000</td>\n",
              "      <td>4751.0</td>\n",
              "    </tr>\n",
              "    <tr>\n",
              "      <th>1</th>\n",
              "      <td>10.0</td>\n",
              "      <td>96.0</td>\n",
              "      <td>0.702128</td>\n",
              "      <td>1.0</td>\n",
              "      <td>0.796875</td>\n",
              "      <td>4.0</td>\n",
              "      <td>3.0</td>\n",
              "      <td>10.0</td>\n",
              "      <td>1.0</td>\n",
              "      <td>4.458333</td>\n",
              "      <td>8.0</td>\n",
              "      <td>0.0</td>\n",
              "      <td>0.0</td>\n",
              "      <td>0.0</td>\n",
              "      <td>0.0</td>\n",
              "      <td>0.0</td>\n",
              "      <td>0.0</td>\n",
              "      <td>217.0</td>\n",
              "      <td>900.0</td>\n",
              "      <td>399.250000</td>\n",
              "      <td>4400.0</td>\n",
              "      <td>80400.0</td>\n",
              "      <td>39962.500000</td>\n",
              "      <td>2042.608696</td>\n",
              "      <td>3366.920455</td>\n",
              "      <td>2917.842715</td>\n",
              "      <td>2600.0</td>\n",
              "      <td>2600.0</td>\n",
              "      <td>2600.0</td>\n",
              "      <td>0.0</td>\n",
              "      <td>0.0</td>\n",
              "      <td>0.0</td>\n",
              "      <td>0.0</td>\n",
              "      <td>0.0</td>\n",
              "      <td>0.0</td>\n",
              "      <td>1.0</td>\n",
              "      <td>1.0</td>\n",
              "      <td>0.025174</td>\n",
              "      <td>0.025050</td>\n",
              "      <td>0.025010</td>\n",
              "      <td>0.899733</td>\n",
              "      <td>0.025033</td>\n",
              "      <td>0.733333</td>\n",
              "      <td>0.040000</td>\n",
              "      <td>0.041667</td>\n",
              "      <td>0.020833</td>\n",
              "      <td>0.666667</td>\n",
              "      <td>0.333333</td>\n",
              "      <td>0.425000</td>\n",
              "      <td>0.200000</td>\n",
              "      <td>0.5</td>\n",
              "      <td>-0.650000</td>\n",
              "      <td>-0.7</td>\n",
              "      <td>-0.60</td>\n",
              "      <td>1.000000</td>\n",
              "      <td>0.500000</td>\n",
              "      <td>0.500000</td>\n",
              "      <td>0.500000</td>\n",
              "      <td>1821.0</td>\n",
              "    </tr>\n",
              "    <tr>\n",
              "      <th>2</th>\n",
              "      <td>9.0</td>\n",
              "      <td>399.0</td>\n",
              "      <td>0.675532</td>\n",
              "      <td>1.0</td>\n",
              "      <td>0.813433</td>\n",
              "      <td>21.0</td>\n",
              "      <td>1.0</td>\n",
              "      <td>20.0</td>\n",
              "      <td>0.0</td>\n",
              "      <td>4.859649</td>\n",
              "      <td>9.0</td>\n",
              "      <td>0.0</td>\n",
              "      <td>0.0</td>\n",
              "      <td>0.0</td>\n",
              "      <td>0.0</td>\n",
              "      <td>0.0</td>\n",
              "      <td>0.0</td>\n",
              "      <td>-1.0</td>\n",
              "      <td>413.0</td>\n",
              "      <td>163.750000</td>\n",
              "      <td>0.0</td>\n",
              "      <td>843300.0</td>\n",
              "      <td>277655.555556</td>\n",
              "      <td>0.000000</td>\n",
              "      <td>8974.234069</td>\n",
              "      <td>4570.544961</td>\n",
              "      <td>23700.0</td>\n",
              "      <td>23700.0</td>\n",
              "      <td>23700.0</td>\n",
              "      <td>0.0</td>\n",
              "      <td>1.0</td>\n",
              "      <td>0.0</td>\n",
              "      <td>0.0</td>\n",
              "      <td>0.0</td>\n",
              "      <td>0.0</td>\n",
              "      <td>0.0</td>\n",
              "      <td>0.0</td>\n",
              "      <td>0.181856</td>\n",
              "      <td>0.022235</td>\n",
              "      <td>0.140076</td>\n",
              "      <td>0.632909</td>\n",
              "      <td>0.022924</td>\n",
              "      <td>0.356277</td>\n",
              "      <td>0.079883</td>\n",
              "      <td>0.027569</td>\n",
              "      <td>0.020050</td>\n",
              "      <td>0.578947</td>\n",
              "      <td>0.421053</td>\n",
              "      <td>0.312613</td>\n",
              "      <td>0.100000</td>\n",
              "      <td>0.6</td>\n",
              "      <td>-0.180208</td>\n",
              "      <td>-0.4</td>\n",
              "      <td>-0.10</td>\n",
              "      <td>0.535714</td>\n",
              "      <td>0.285714</td>\n",
              "      <td>0.035714</td>\n",
              "      <td>0.285714</td>\n",
              "      <td>1420.0</td>\n",
              "    </tr>\n",
              "    <tr>\n",
              "      <th>3</th>\n",
              "      <td>11.0</td>\n",
              "      <td>1388.0</td>\n",
              "      <td>0.482156</td>\n",
              "      <td>1.0</td>\n",
              "      <td>0.685446</td>\n",
              "      <td>40.0</td>\n",
              "      <td>4.0</td>\n",
              "      <td>2.0</td>\n",
              "      <td>5.0</td>\n",
              "      <td>4.562680</td>\n",
              "      <td>10.0</td>\n",
              "      <td>1.0</td>\n",
              "      <td>0.0</td>\n",
              "      <td>0.0</td>\n",
              "      <td>0.0</td>\n",
              "      <td>0.0</td>\n",
              "      <td>0.0</td>\n",
              "      <td>-1.0</td>\n",
              "      <td>478.0</td>\n",
              "      <td>52.222222</td>\n",
              "      <td>0.0</td>\n",
              "      <td>843300.0</td>\n",
              "      <td>230180.000000</td>\n",
              "      <td>0.000000</td>\n",
              "      <td>4916.285714</td>\n",
              "      <td>3270.495273</td>\n",
              "      <td>1400.0</td>\n",
              "      <td>1400.0</td>\n",
              "      <td>1400.0</td>\n",
              "      <td>1.0</td>\n",
              "      <td>0.0</td>\n",
              "      <td>0.0</td>\n",
              "      <td>0.0</td>\n",
              "      <td>0.0</td>\n",
              "      <td>0.0</td>\n",
              "      <td>0.0</td>\n",
              "      <td>0.0</td>\n",
              "      <td>0.566989</td>\n",
              "      <td>0.021543</td>\n",
              "      <td>0.219971</td>\n",
              "      <td>0.020043</td>\n",
              "      <td>0.171454</td>\n",
              "      <td>0.446667</td>\n",
              "      <td>0.174293</td>\n",
              "      <td>0.046830</td>\n",
              "      <td>0.013689</td>\n",
              "      <td>0.773810</td>\n",
              "      <td>0.226190</td>\n",
              "      <td>0.363141</td>\n",
              "      <td>0.033333</td>\n",
              "      <td>1.0</td>\n",
              "      <td>-0.260965</td>\n",
              "      <td>-0.5</td>\n",
              "      <td>-0.05</td>\n",
              "      <td>1.000000</td>\n",
              "      <td>-0.500000</td>\n",
              "      <td>0.500000</td>\n",
              "      <td>0.500000</td>\n",
              "      <td>52.0</td>\n",
              "    </tr>\n",
              "    <tr>\n",
              "      <th>4</th>\n",
              "      <td>12.0</td>\n",
              "      <td>499.0</td>\n",
              "      <td>0.564682</td>\n",
              "      <td>1.0</td>\n",
              "      <td>0.752508</td>\n",
              "      <td>10.0</td>\n",
              "      <td>0.0</td>\n",
              "      <td>1.0</td>\n",
              "      <td>0.0</td>\n",
              "      <td>4.961924</td>\n",
              "      <td>7.0</td>\n",
              "      <td>0.0</td>\n",
              "      <td>0.0</td>\n",
              "      <td>0.0</td>\n",
              "      <td>0.0</td>\n",
              "      <td>0.0</td>\n",
              "      <td>1.0</td>\n",
              "      <td>-1.0</td>\n",
              "      <td>1300.0</td>\n",
              "      <td>283.000000</td>\n",
              "      <td>0.0</td>\n",
              "      <td>843300.0</td>\n",
              "      <td>233657.142857</td>\n",
              "      <td>0.000000</td>\n",
              "      <td>3960.285714</td>\n",
              "      <td>2382.862218</td>\n",
              "      <td>0.0</td>\n",
              "      <td>0.0</td>\n",
              "      <td>0.0</td>\n",
              "      <td>1.0</td>\n",
              "      <td>0.0</td>\n",
              "      <td>0.0</td>\n",
              "      <td>0.0</td>\n",
              "      <td>0.0</td>\n",
              "      <td>0.0</td>\n",
              "      <td>0.0</td>\n",
              "      <td>0.0</td>\n",
              "      <td>0.028579</td>\n",
              "      <td>0.028580</td>\n",
              "      <td>0.388730</td>\n",
              "      <td>0.168016</td>\n",
              "      <td>0.386094</td>\n",
              "      <td>0.527349</td>\n",
              "      <td>0.147923</td>\n",
              "      <td>0.062124</td>\n",
              "      <td>0.014028</td>\n",
              "      <td>0.815789</td>\n",
              "      <td>0.184211</td>\n",
              "      <td>0.291111</td>\n",
              "      <td>0.100000</td>\n",
              "      <td>0.6</td>\n",
              "      <td>-0.195238</td>\n",
              "      <td>-0.4</td>\n",
              "      <td>-0.10</td>\n",
              "      <td>0.650000</td>\n",
              "      <td>0.350000</td>\n",
              "      <td>0.150000</td>\n",
              "      <td>0.350000</td>\n",
              "      <td>4182.0</td>\n",
              "    </tr>\n",
              "  </tbody>\n",
              "</table>\n",
              "</div>"
            ],
            "text/plain": [
              "   n_tokens_title  n_tokens_content  ...  abs_title_sentiment_polarity  shares\n",
              "0             9.0             286.0  ...                      0.000000  4751.0\n",
              "1            10.0              96.0  ...                      0.500000  1821.0\n",
              "2             9.0             399.0  ...                      0.285714  1420.0\n",
              "3            11.0            1388.0  ...                      0.500000    52.0\n",
              "4            12.0             499.0  ...                      0.350000  4182.0\n",
              "\n",
              "[5 rows x 59 columns]"
            ]
          },
          "metadata": {
            "tags": []
          },
          "execution_count": 1
        }
      ]
    },
    {
      "cell_type": "code",
      "metadata": {
        "id": "jVKW2h4Vdnr-",
        "colab_type": "code",
        "colab": {}
      },
      "source": [
        "inputs = train.drop(['shares'],axis= 'columns')\n",
        "target = train.shares"
      ],
      "execution_count": null,
      "outputs": []
    },
    {
      "cell_type": "code",
      "metadata": {
        "id": "kXC1OC29ihrO",
        "colab_type": "code",
        "colab": {}
      },
      "source": [
        "test['shares'] = 0\n",
        "inputstest = test.drop(['shares'],axis='columns')\n",
        "targettest = test.shares"
      ],
      "execution_count": null,
      "outputs": []
    },
    {
      "cell_type": "code",
      "metadata": {
        "id": "l9MQsVDZqUUI",
        "colab_type": "code",
        "colab": {}
      },
      "source": [
        "#from sklearn.model_selection import train_test_split\n",
        "#X_train, X_test, y_train, y_test = train_test_split(inputs,target,test_size=0.3)"
      ],
      "execution_count": null,
      "outputs": []
    },
    {
      "cell_type": "code",
      "metadata": {
        "id": "oak2tunrqcgZ",
        "colab_type": "code",
        "colab": {}
      },
      "source": [
        "#from sklearn.linear_model import LinearRegression\n",
        "#model = LinearRegression()"
      ],
      "execution_count": null,
      "outputs": []
    },
    {
      "cell_type": "code",
      "metadata": {
        "id": "Xe0-TeuLe0vH",
        "colab_type": "code",
        "colab": {}
      },
      "source": [
        "#from sklearn.naive_bayes import GaussianNB\n",
        "#model = GaussianNB()"
      ],
      "execution_count": null,
      "outputs": []
    },
    {
      "cell_type": "code",
      "metadata": {
        "id": "kwYhNzHEfAz8",
        "colab_type": "code",
        "colab": {}
      },
      "source": [
        "#model.fit(X_train,y_train)"
      ],
      "execution_count": null,
      "outputs": []
    },
    {
      "cell_type": "code",
      "metadata": {
        "id": "DLopS9wbyS22",
        "colab_type": "code",
        "colab": {
          "base_uri": "https://localhost:8080/",
          "height": 34
        },
        "outputId": "bb101828-c3ae-4578-a035-655efc16ad35"
      },
      "source": [
        "#import keras\n",
        "#from keras.models import Sequential\n",
        "#from keras.layers import Dense\n",
        "# Neural network\n",
        "#model = Sequential()\n",
        "#model.add(Dense(units=6, input_dim=58, activation='relu'))\n",
        "#model.add(Dense(units=6, activation='relu'))\n",
        "#model.add(Dense(units=1, activation='sigmoid'))"
      ],
      "execution_count": null,
      "outputs": [
        {
          "output_type": "stream",
          "text": [
            "Using TensorFlow backend.\n"
          ],
          "name": "stderr"
        }
      ]
    },
    {
      "cell_type": "code",
      "metadata": {
        "id": "OHkPLpYRehsq",
        "colab_type": "code",
        "colab": {}
      },
      "source": [
        "X_train = inputs\n",
        "X_test = inputstest\n",
        "y_train = keras.utils.to_categorical(target)\n",
        "y_test  = keras.utils.to_categorical(targettest)"
      ],
      "execution_count": null,
      "outputs": []
    },
    {
      "cell_type": "code",
      "metadata": {
        "id": "wDvUOWQgfl6H",
        "colab_type": "code",
        "colab": {}
      },
      "source": [
        "from sklearn.ensemble import RandomForestClassifier\n",
        "model = RandomForestClassifier()"
      ],
      "execution_count": null,
      "outputs": []
    },
    {
      "cell_type": "code",
      "metadata": {
        "id": "mvRnIQ8j4rqw",
        "colab_type": "code",
        "colab": {}
      },
      "source": [
        "#model.compile(loss='categorical_crossentropy', optimizer='adam', metrics=['accuracy'])"
      ],
      "execution_count": null,
      "outputs": []
    },
    {
      "cell_type": "code",
      "metadata": {
        "id": "v3uFhSaKEFS4",
        "colab_type": "code",
        "colab": {}
      },
      "source": [
        "#from keras.utils import to_categorical"
      ],
      "execution_count": null,
      "outputs": []
    },
    {
      "cell_type": "code",
      "metadata": {
        "id": "N2UebApy8UU1",
        "colab_type": "code",
        "colab": {}
      },
      "source": [
        "#history = model.fit(X_train, y_train, epochs=100)"
      ],
      "execution_count": null,
      "outputs": []
    },
    {
      "cell_type": "code",
      "metadata": {
        "id": "kwHsF2hVtuu7",
        "colab_type": "code",
        "colab": {}
      },
      "source": [
        "from sklearn.ensemble import GradientBoostingRegressor\n",
        "est = GradientBoostingRegressor(n_estimators=50, learning_rate=0.1, max_depth=1,random_state=0).fit(X_train,y_train)"
      ],
      "execution_count": null,
      "outputs": []
    },
    {
      "cell_type": "code",
      "metadata": {
        "id": "B6v9L3fTq3mx",
        "colab_type": "code",
        "colab": {}
      },
      "source": [
        "#model.score(X_test,y_test)"
      ],
      "execution_count": null,
      "outputs": []
    },
    {
      "cell_type": "code",
      "metadata": {
        "id": "AsTVwKoSxWnO",
        "colab_type": "code",
        "colab": {}
      },
      "source": [
        ""
      ],
      "execution_count": null,
      "outputs": []
    },
    {
      "cell_type": "code",
      "metadata": {
        "id": "oR7x49V-xZ5Y",
        "colab_type": "code",
        "colab": {}
      },
      "source": [
        ""
      ],
      "execution_count": null,
      "outputs": []
    },
    {
      "cell_type": "code",
      "metadata": {
        "id": "nUEPa3PdfLis",
        "colab_type": "code",
        "colab": {}
      },
      "source": [
        "y_test = model.predict(X_test)\n",
        "y_test"
      ],
      "execution_count": null,
      "outputs": []
    },
    {
      "cell_type": "code",
      "metadata": {
        "id": "3Cdx4p-mlM4o",
        "colab_type": "code",
        "colab": {}
      },
      "source": [
        "test.shares = y_test\n",
        "output = test.shares\n",
        "output"
      ],
      "execution_count": null,
      "outputs": []
    },
    {
      "cell_type": "code",
      "metadata": {
        "id": "DwEB-2IxnUfd",
        "colab_type": "code",
        "colab": {}
      },
      "source": [
        " \n",
        "output.to_csv('/content/drive/My Drive/output.csv')"
      ],
      "execution_count": null,
      "outputs": []
    }
  ]
}